{
 "cells": [
  {
   "cell_type": "code",
   "execution_count": 1,
   "id": "57bd4fbf",
   "metadata": {},
   "outputs": [],
   "source": [
    "import glob"
   ]
  },
  {
   "cell_type": "code",
   "execution_count": null,
   "id": "169911f3",
   "metadata": {},
   "outputs": [],
   "source": [
    "from config.settings import EXTRACT_PATH"
   ]
  },
  {
   "cell_type": "code",
   "execution_count": 12,
   "id": "dc2c51b8",
   "metadata": {},
   "outputs": [],
   "source": [
    "files = glob.glob(f'{EXTRACT_PATH}/*.csv')\n",
    "\n",
    "key_columns = [\"Country Name\",\"Country Code\",\"Indicator Name\",\"Indicator Code\"]\n",
    "filtered_files = []\n",
    "\n",
    "for file in files:\n",
    "    f = open(file)\n",
    "    for i in range(10):\n",
    "        line = f.readline()\n",
    "        if i == 4:\n",
    "            if any(e in line for e in key_columns):\n",
    "                filtered_files.append(file)\n",
    "    f.close()\n"
   ]
  },
  {
   "cell_type": "code",
   "execution_count": 13,
   "id": "0d0cc86f",
   "metadata": {},
   "outputs": [
    {
     "name": "stdout",
     "output_type": "stream",
     "text": [
      "./data\\electricity_access_percent.csv\n",
      "./data\\population_data.csv\n",
      "./data\\rural_population_percent.csv\n",
      "./data\\gdp_data.csv\n"
     ]
    }
   ],
   "source": [
    "for file in filtered_files:\n",
    "    print(file)"
   ]
  }
 ],
 "metadata": {
  "kernelspec": {
   "display_name": ".venv",
   "language": "python",
   "name": "python3"
  },
  "language_info": {
   "codemirror_mode": {
    "name": "ipython",
    "version": 3
   },
   "file_extension": ".py",
   "mimetype": "text/x-python",
   "name": "python",
   "nbconvert_exporter": "python",
   "pygments_lexer": "ipython3",
   "version": "3.13.7"
  }
 },
 "nbformat": 4,
 "nbformat_minor": 5
}
