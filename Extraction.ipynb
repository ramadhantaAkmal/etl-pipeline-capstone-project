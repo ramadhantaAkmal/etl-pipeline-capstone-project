{
 "cells": [
  {
   "cell_type": "code",
   "execution_count": 16,
   "id": "57bd4fbf",
   "metadata": {},
   "outputs": [],
   "source": [
    "import glob\n",
    "import pandas as pd\n",
    "import charset_normalizer"
   ]
  },
  {
   "cell_type": "code",
   "execution_count": 6,
   "id": "169911f3",
   "metadata": {},
   "outputs": [],
   "source": [
    "from config.settings import EXTRACT_PATH\n",
    "from extract.extract import extract_csv"
   ]
  },
  {
   "cell_type": "code",
   "execution_count": null,
   "id": "dc2c51b8",
   "metadata": {},
   "outputs": [],
   "source": [
    "files = glob.glob(f'{EXTRACT_PATH}/*.csv')\n",
    "\n",
    "key_columns = [\"Country Name\",\"Country Code\",\"Indicator Name\",\"Indicator Code\"]\n",
    "filtered_files = []\n",
    "\n",
    "for file in files:\n",
    "    f = open(file)\n",
    "    for i in range(10):\n",
    "        line = f.readline()\n",
    "        if i == 4:\n",
    "            if any(e in line for e in key_columns):\n",
    "                filtered_files.append(file)\n",
    "    f.close()\n"
   ]
  },
  {
   "cell_type": "code",
   "execution_count": null,
   "id": "9f35a637",
   "metadata": {},
   "outputs": [],
   "source": [
    "def extract_data_to_df(path: str, key_columns:list[str], skip_line = 0) -> list[pd.DataFrame]:  \n",
    "    files = glob.glob(f'{path}/*.csv')\n",
    "\n",
    "    df_list:list[pd.DataFrame] = []\n",
    "\n",
    "    for file in files:\n",
    "        with open(file, 'rb') as fil:\n",
    "            result = charset_normalizer.detect(fil.read())\n",
    "            print(file)\n",
    "            print(result)\n",
    "            \n",
    "        f = open(file)\n",
    "        for i in range(10):\n",
    "            line = f.readline()\n",
    "            if i == skip_line:\n",
    "                if any(e in line for e in key_columns):\n",
    "                    df = extract_csv(file,skip_line)\n",
    "                    df_list.append(df)\n",
    "        f.close()\n",
    "    return df_list"
   ]
  },
  {
   "cell_type": "code",
   "execution_count": null,
   "id": "f9ae438c",
   "metadata": {},
   "outputs": [
    {
     "name": "stdout",
     "output_type": "stream",
     "text": [
      "./data\\electricity_access_percent.csv\n",
      "{'encoding': 'UTF-8-SIG', 'language': 'English', 'confidence': 1.0}\n",
      "./data\\projects_data.csv\n",
      "{'encoding': 'utf-8', 'language': 'English', 'confidence': 0.917}\n",
      "./data\\mystery.csv\n",
      "{'encoding': 'UTF-16', 'language': 'Vietnamese', 'confidence': 1.0}\n",
      "./data\\population_data.csv\n",
      "{'encoding': 'UTF-8-SIG', 'language': 'English', 'confidence': 1.0}\n",
      "./data\\rural_population_percent.csv\n",
      "{'encoding': 'UTF-8-SIG', 'language': 'English', 'confidence': 1.0}\n",
      "./data\\gdp_data.csv\n",
      "{'encoding': 'UTF-8-SIG', 'language': 'Finnish', 'confidence': 1.0}\n"
     ]
    }
   ],
   "source": [
    "df = extract_data_to_df(EXTRACT_PATH,key_columns,4)"
   ]
  },
  {
   "cell_type": "code",
   "execution_count": 18,
   "id": "0d0cc86f",
   "metadata": {},
   "outputs": [
    {
     "name": "stdout",
     "output_type": "stream",
     "text": [
      "{'encoding': 'UTF-8-SIG', 'language': 'English', 'confidence': 1.0}\n",
      "{'encoding': 'UTF-8-SIG', 'language': 'English', 'confidence': 1.0}\n",
      "{'encoding': 'UTF-8-SIG', 'language': 'English', 'confidence': 1.0}\n",
      "{'encoding': 'UTF-8-SIG', 'language': 'Finnish', 'confidence': 1.0}\n"
     ]
    }
   ],
   "source": [
    "for file in filtered_files:\n",
    "    with open(file, 'rb') as fil:\n",
    "        result = charset_normalizer.detect(fil.read())\n",
    "        print(result)"
   ]
  }
 ],
 "metadata": {
  "kernelspec": {
   "display_name": ".venv",
   "language": "python",
   "name": "python3"
  },
  "language_info": {
   "codemirror_mode": {
    "name": "ipython",
    "version": 3
   },
   "file_extension": ".py",
   "mimetype": "text/x-python",
   "name": "python",
   "nbconvert_exporter": "python",
   "pygments_lexer": "ipython3",
   "version": "3.13.7"
  }
 },
 "nbformat": 4,
 "nbformat_minor": 5
}
