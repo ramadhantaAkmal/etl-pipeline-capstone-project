{
 "cells": [
  {
   "cell_type": "code",
   "execution_count": 2,
   "id": "6bb74db1",
   "metadata": {},
   "outputs": [],
   "source": [
    "import pandas as pd"
   ]
  },
  {
   "cell_type": "code",
   "execution_count": 10,
   "id": "c67d5f5e",
   "metadata": {},
   "outputs": [],
   "source": [
    "data = pd.read_csv(\"data_sources/data_reqruitment/data_requirements.csv\")"
   ]
  },
  {
   "cell_type": "code",
   "execution_count": 11,
   "id": "8f41e931",
   "metadata": {},
   "outputs": [
    {
     "name": "stdout",
     "output_type": "stream",
     "text": [
      "<bound method NDFrame.head of       Unnamed: 0                            company  company_rating  \\\n",
      "0              0               PCS Global Tech\\n4.7             4.7   \n",
      "1              1         Futuretech Consultants LLC             NaN   \n",
      "2              2                   Clairvoyant\\n4.4             4.4   \n",
      "3              3                         Apple\\n4.2             4.2   \n",
      "4              4  Skytech Consultancy Services\\n5.0             5.0   \n",
      "...          ...                                ...             ...   \n",
      "1550        1550                        Paycom\\n3.5             3.5   \n",
      "1551        1551    Amazon Data Services, Inc.\\n3.7             3.7   \n",
      "1552        1552            Palo Alto Networks\\n4.2             4.2   \n",
      "1553        1553                      Talent Groups             NaN   \n",
      "1554        1554     Gainwell Technologies LLC\\n3.4             3.4   \n",
      "\n",
      "               location                                          job_title  \\\n",
      "0         Riverside, CA                      Data Engineer | PAID BOOTCAMP   \n",
      "1            Newton, MS                            Snowflake Data Engineer   \n",
      "2                Remote                                Data Engineer (MDM)   \n",
      "3         Cupertino, CA                                      Data Engineer   \n",
      "4         Baltimore, MD                                      Data Engineer   \n",
      "...                 ...                                                ...   \n",
      "1550  Oklahoma City, OK                                  Sr. Data Engineer   \n",
      "1551      Hermiston, OR  Data Center Regional Electrical Engineer (Fiel...   \n",
      "1552    Santa Clara, CA  Sr Principal Data Software Engineer (SASE, Cloud)   \n",
      "1553             Remote  Fulltime // Data Engineer (H4 EADs, L2 EADs, G...   \n",
      "1554      Roseville, CA       Cloud Data Engineer - Hybrid - Roseville, CA   \n",
      "\n",
      "                                        job_description      salary_estimate  \\\n",
      "0     Responsibilities\\n· Analyze and organize raw d...   $70,000 /yr (est.)   \n",
      "1     My name is Dileep and I am a recruiter at Futu...    $42.50 /hr (est.)   \n",
      "2     Required Skills:\\nMust have 5-8+ Years of expe...    $67.50 /hr (est.)   \n",
      "3     Summary\\nPosted: Dec 22, 2021\\nWeekly Hours: 4...                  NaN   \n",
      "4     Description of Work:\\nTechnical experience in ...    $65.00 /hr (est.)   \n",
      "...                                                 ...                  ...   \n",
      "1550  This position will be located within the Devel...   $90,582 /yr (est.)   \n",
      "1551  Bachelor’s Degree in Electrical Engineering or...  $105,893 /yr (est.)   \n",
      "1552  Company Description\\n\\nOur Mission\\nAt Palo Al...  $188,700 /yr (est.)   \n",
      "1553  Position: Data engineer (Live Table Structured...  $130,000 /yr (est.)   \n",
      "1554  Be part of a team that unleashes the power of ...   $98,850 /yr (est.)   \n",
      "\n",
      "                company_size       company_type  \\\n",
      "0      501 to 1000 Employees  Company - Private   \n",
      "1                        NaN                NaN   \n",
      "2        51 to 200 Employees  Company - Private   \n",
      "3           10000+ Employees   Company - Public   \n",
      "4          1 to 50 Employees   Company - Public   \n",
      "...                      ...                ...   \n",
      "1550  1001 to 5000 Employees   Company - Public   \n",
      "1551        10000+ Employees   Company - Public   \n",
      "1552        10000+ Employees   Company - Public   \n",
      "1553                 Unknown  Company - Private   \n",
      "1554        10000+ Employees  Company - Private   \n",
      "\n",
      "                      company_sector                         company_industry  \\\n",
      "0             Information Technology  Information Technology Support Services   \n",
      "1                                NaN                                      NaN   \n",
      "2     Pharmaceutical & Biotechnology                Biotech & Pharmaceuticals   \n",
      "3             Information Technology            Computer Hardware Development   \n",
      "4                                NaN                                      NaN   \n",
      "...                              ...                                      ...   \n",
      "1550          Information Technology  Enterprise Software & Network Solutions   \n",
      "1551          Information Technology                  Internet & Web Services   \n",
      "1552          Information Technology  Enterprise Software & Network Solutions   \n",
      "1553      Human Resources & Staffing                Staffing & Subcontracting   \n",
      "1554          Information Technology  Information Technology Support Services   \n",
      "\n",
      "      company_founded           company_revenue                      dates  \n",
      "0                 NaN  Unknown / Non-Applicable  2024-06-12 00:00:00-10:00  \n",
      "1                 NaN                       NaN  2024-06-12 00:00:00+07:00  \n",
      "2                 NaN  Unknown / Non-Applicable  2024-06-12 00:00:00-10:00  \n",
      "3              1976.0        $10+ billion (USD)  2024-06-12 00:00:00-05:00  \n",
      "4                 NaN  Unknown / Non-Applicable  2024-06-12 00:00:00-04:00  \n",
      "...               ...                       ...                        ...  \n",
      "1550           1998.0    $1 to $5 billion (USD)  2024-07-01 00:00:00+08:00  \n",
      "1551           1994.0        $10+ billion (USD)  2024-07-01 00:00:00-05:00  \n",
      "1552           2005.0    $1 to $5 billion (USD)  2024-07-01 00:00:00+01:00  \n",
      "1553              NaN  Unknown / Non-Applicable  2024-07-01 00:00:00-10:00  \n",
      "1554           2020.0  Unknown / Non-Applicable  2024-07-01 00:00:00+10:00  \n",
      "\n",
      "[1555 rows x 14 columns]>\n"
     ]
    }
   ],
   "source": [
    "print(data.head)"
   ]
  },
  {
   "cell_type": "code",
   "execution_count": 17,
   "id": "d6a159fe",
   "metadata": {},
   "outputs": [
    {
     "data": {
      "text/plain": [
       "Unnamed: 0            0\n",
       "company               4\n",
       "company_rating      197\n",
       "location              1\n",
       "job_title             1\n",
       "job_description       1\n",
       "salary_estimate     278\n",
       "company_size        113\n",
       "company_type        113\n",
       "company_sector      295\n",
       "company_industry    295\n",
       "company_founded     424\n",
       "company_revenue     113\n",
       "dates                 0\n",
       "dtype: int64"
      ]
     },
     "execution_count": 17,
     "metadata": {},
     "output_type": "execute_result"
    }
   ],
   "source": [
    "data.isnull().sum()"
   ]
  },
  {
   "cell_type": "code",
   "execution_count": 12,
   "id": "a6d01f53",
   "metadata": {},
   "outputs": [
    {
     "data": {
      "text/plain": [
       "Unnamed: 0            int64\n",
       "company              object\n",
       "company_rating      float64\n",
       "location             object\n",
       "job_title            object\n",
       "job_description      object\n",
       "salary_estimate      object\n",
       "company_size         object\n",
       "company_type         object\n",
       "company_sector       object\n",
       "company_industry     object\n",
       "company_founded     float64\n",
       "company_revenue      object\n",
       "dates                object\n",
       "dtype: object"
      ]
     },
     "execution_count": 12,
     "metadata": {},
     "output_type": "execute_result"
    }
   ],
   "source": [
    "data.dtypes"
   ]
  },
  {
   "cell_type": "code",
   "execution_count": 23,
   "id": "1e0faa2d",
   "metadata": {},
   "outputs": [
    {
     "data": {
      "text/html": [
       "<div>\n",
       "<style scoped>\n",
       "    .dataframe tbody tr th:only-of-type {\n",
       "        vertical-align: middle;\n",
       "    }\n",
       "\n",
       "    .dataframe tbody tr th {\n",
       "        vertical-align: top;\n",
       "    }\n",
       "\n",
       "    .dataframe thead th {\n",
       "        text-align: right;\n",
       "    }\n",
       "</style>\n",
       "<table border=\"1\" class=\"dataframe\">\n",
       "  <thead>\n",
       "    <tr style=\"text-align: right;\">\n",
       "      <th></th>\n",
       "      <th>Unnamed: 0</th>\n",
       "      <th>company</th>\n",
       "      <th>company_rating</th>\n",
       "      <th>location</th>\n",
       "      <th>job_title</th>\n",
       "      <th>job_description</th>\n",
       "      <th>salary_estimate</th>\n",
       "      <th>company_size</th>\n",
       "      <th>company_type</th>\n",
       "      <th>company_sector</th>\n",
       "      <th>company_industry</th>\n",
       "      <th>company_founded</th>\n",
       "      <th>company_revenue</th>\n",
       "      <th>dates</th>\n",
       "    </tr>\n",
       "  </thead>\n",
       "  <tbody>\n",
       "    <tr>\n",
       "      <th>323</th>\n",
       "      <td>323</td>\n",
       "      <td>NaN</td>\n",
       "      <td>NaN</td>\n",
       "      <td>NaN</td>\n",
       "      <td>NaN</td>\n",
       "      <td>NaN</td>\n",
       "      <td>NaN</td>\n",
       "      <td>NaN</td>\n",
       "      <td>NaN</td>\n",
       "      <td>NaN</td>\n",
       "      <td>NaN</td>\n",
       "      <td>NaN</td>\n",
       "      <td>NaN</td>\n",
       "      <td>2024-06-16 00:00:00+07:00</td>\n",
       "    </tr>\n",
       "    <tr>\n",
       "      <th>525</th>\n",
       "      <td>525</td>\n",
       "      <td>NaN</td>\n",
       "      <td>NaN</td>\n",
       "      <td>Phoenix, AZ</td>\n",
       "      <td>Data Warehouse Engineer - Remote</td>\n",
       "      <td>At UnitedHealthcare, we’re simplifying the hea...</td>\n",
       "      <td>$100,450 /yr (est.)</td>\n",
       "      <td>10000+ Employees</td>\n",
       "      <td>Company - Public</td>\n",
       "      <td>Healthcare</td>\n",
       "      <td>Health Care Services &amp; Hospitals</td>\n",
       "      <td>1977.0</td>\n",
       "      <td>$10+ billion (USD)</td>\n",
       "      <td>2024-06-18 00:00:00+10:00</td>\n",
       "    </tr>\n",
       "    <tr>\n",
       "      <th>529</th>\n",
       "      <td>529</td>\n",
       "      <td>NaN</td>\n",
       "      <td>NaN</td>\n",
       "      <td>Minnetonka, MN</td>\n",
       "      <td>Data Engineer - Remote</td>\n",
       "      <td>At UnitedHealthcare, we’re simplifying the hea...</td>\n",
       "      <td>$100,450 /yr (est.)</td>\n",
       "      <td>10000+ Employees</td>\n",
       "      <td>Company - Public</td>\n",
       "      <td>Healthcare</td>\n",
       "      <td>Health Care Services &amp; Hospitals</td>\n",
       "      <td>1977.0</td>\n",
       "      <td>$10+ billion (USD)</td>\n",
       "      <td>2024-06-18 00:00:00-04:00</td>\n",
       "    </tr>\n",
       "    <tr>\n",
       "      <th>667</th>\n",
       "      <td>667</td>\n",
       "      <td>NaN</td>\n",
       "      <td>NaN</td>\n",
       "      <td>Englewood, CO</td>\n",
       "      <td>Senior Data Engineer</td>\n",
       "      <td>Department Summary\\n\\nDISH is a Fortune 200 co...</td>\n",
       "      <td>$115,625 /yr (est.)</td>\n",
       "      <td>10000+ Employees</td>\n",
       "      <td>Company - Public</td>\n",
       "      <td>Telecommunications</td>\n",
       "      <td>Cable, Internet &amp; Telephone Providers</td>\n",
       "      <td>1980.0</td>\n",
       "      <td>$10+ billion (USD)</td>\n",
       "      <td>2024-06-20 00:00:00-05:00</td>\n",
       "    </tr>\n",
       "  </tbody>\n",
       "</table>\n",
       "</div>"
      ],
      "text/plain": [
       "     Unnamed: 0 company  company_rating        location  \\\n",
       "323         323     NaN             NaN             NaN   \n",
       "525         525     NaN             NaN     Phoenix, AZ   \n",
       "529         529     NaN             NaN  Minnetonka, MN   \n",
       "667         667     NaN             NaN   Englewood, CO   \n",
       "\n",
       "                            job_title  \\\n",
       "323                               NaN   \n",
       "525  Data Warehouse Engineer - Remote   \n",
       "529            Data Engineer - Remote   \n",
       "667              Senior Data Engineer   \n",
       "\n",
       "                                       job_description      salary_estimate  \\\n",
       "323                                                NaN                  NaN   \n",
       "525  At UnitedHealthcare, we’re simplifying the hea...  $100,450 /yr (est.)   \n",
       "529  At UnitedHealthcare, we’re simplifying the hea...  $100,450 /yr (est.)   \n",
       "667  Department Summary\\n\\nDISH is a Fortune 200 co...  $115,625 /yr (est.)   \n",
       "\n",
       "         company_size      company_type      company_sector  \\\n",
       "323               NaN               NaN                 NaN   \n",
       "525  10000+ Employees  Company - Public          Healthcare   \n",
       "529  10000+ Employees  Company - Public          Healthcare   \n",
       "667  10000+ Employees  Company - Public  Telecommunications   \n",
       "\n",
       "                          company_industry  company_founded  \\\n",
       "323                                    NaN              NaN   \n",
       "525       Health Care Services & Hospitals           1977.0   \n",
       "529       Health Care Services & Hospitals           1977.0   \n",
       "667  Cable, Internet & Telephone Providers           1980.0   \n",
       "\n",
       "        company_revenue                      dates  \n",
       "323                 NaN  2024-06-16 00:00:00+07:00  \n",
       "525  $10+ billion (USD)  2024-06-18 00:00:00+10:00  \n",
       "529  $10+ billion (USD)  2024-06-18 00:00:00-04:00  \n",
       "667  $10+ billion (USD)  2024-06-20 00:00:00-05:00  "
      ]
     },
     "execution_count": 23,
     "metadata": {},
     "output_type": "execute_result"
    }
   ],
   "source": [
    "null_rows = data[data[\"company\"].isna()]\n",
    "null_rows"
   ]
  },
  {
   "cell_type": "code",
   "execution_count": 34,
   "id": "905e2552",
   "metadata": {},
   "outputs": [
    {
     "data": {
      "text/html": [
       "<div>\n",
       "<style scoped>\n",
       "    .dataframe tbody tr th:only-of-type {\n",
       "        vertical-align: middle;\n",
       "    }\n",
       "\n",
       "    .dataframe tbody tr th {\n",
       "        vertical-align: top;\n",
       "    }\n",
       "\n",
       "    .dataframe thead th {\n",
       "        text-align: right;\n",
       "    }\n",
       "</style>\n",
       "<table border=\"1\" class=\"dataframe\">\n",
       "  <thead>\n",
       "    <tr style=\"text-align: right;\">\n",
       "      <th></th>\n",
       "      <th>Unnamed: 0</th>\n",
       "      <th>company</th>\n",
       "      <th>company_rating</th>\n",
       "      <th>location</th>\n",
       "      <th>job_title</th>\n",
       "      <th>job_description</th>\n",
       "      <th>salary_estimate</th>\n",
       "      <th>company_size</th>\n",
       "      <th>company_type</th>\n",
       "      <th>company_sector</th>\n",
       "      <th>company_industry</th>\n",
       "      <th>company_founded</th>\n",
       "      <th>company_revenue</th>\n",
       "      <th>dates</th>\n",
       "    </tr>\n",
       "  </thead>\n",
       "  <tbody>\n",
       "  </tbody>\n",
       "</table>\n",
       "</div>"
      ],
      "text/plain": [
       "Empty DataFrame\n",
       "Columns: [Unnamed: 0, company, company_rating, location, job_title, job_description, salary_estimate, company_size, company_type, company_sector, company_industry, company_founded, company_revenue, dates]\n",
       "Index: []"
      ]
     },
     "execution_count": 34,
     "metadata": {},
     "output_type": "execute_result"
    }
   ],
   "source": [
    "one_non_null = data[data.notna().sum(axis=1) == 1]\n",
    "one_non_null"
   ]
  },
  {
   "cell_type": "code",
   "execution_count": 35,
   "id": "26c21e45",
   "metadata": {},
   "outputs": [
    {
     "data": {
      "text/plain": [
       "0       2024-06-12 00:00:00-10:00\n",
       "1       2024-06-12 00:00:00+07:00\n",
       "2       2024-06-12 00:00:00-10:00\n",
       "3       2024-06-12 00:00:00-05:00\n",
       "4       2024-06-12 00:00:00-04:00\n",
       "                  ...            \n",
       "1550    2024-07-01 00:00:00+08:00\n",
       "1551    2024-07-01 00:00:00-05:00\n",
       "1552    2024-07-01 00:00:00+01:00\n",
       "1553    2024-07-01 00:00:00-10:00\n",
       "1554    2024-07-01 00:00:00+10:00\n",
       "Name: dates, Length: 1555, dtype: object"
      ]
     },
     "execution_count": 35,
     "metadata": {},
     "output_type": "execute_result"
    }
   ],
   "source": [
    "data['dates']"
   ]
  }
 ],
 "metadata": {
  "kernelspec": {
   "display_name": "Python 3",
   "language": "python",
   "name": "python3"
  },
  "language_info": {
   "codemirror_mode": {
    "name": "ipython",
    "version": 3
   },
   "file_extension": ".py",
   "mimetype": "text/x-python",
   "name": "python",
   "nbconvert_exporter": "python",
   "pygments_lexer": "ipython3",
   "version": "3.13.3"
  }
 },
 "nbformat": 4,
 "nbformat_minor": 5
}
